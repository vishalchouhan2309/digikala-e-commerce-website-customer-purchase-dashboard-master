{
 "cells": [
  {
   "cell_type": "markdown",
   "id": "fa414811-bcf1-449a-bd07-bea359da41b0",
   "metadata": {},
   "source": [
    "## Digikala Customer Purchase Dashboard\n",
    "### 1 - Collect orders data\n",
    "### 2 - Extract order_ids\n",
    "### 3 - Collect purchased products data\n",
    "### 4 - Convert order date from Jalali to Gregorian \n",
    "### 5 - Clean category text\n",
    "### 6 - save datas into csv"
   ]
  },
  {
   "cell_type": "code",
   "execution_count": null,
   "id": "46a1e18c-dd16-4e45-af56-88266882cd7e",
   "metadata": {},
   "outputs": [],
   "source": [
    "# for convert Jalali date\n",
    "from persiantools.jdatetime import JalaliDate\n",
    "\n",
    "# translate data to english\n",
    "from deep_translator import GoogleTranslator\n",
    "\n",
    "# convert num unit\n",
    "from unidecode import unidecode\n",
    "\n",
    "# preprocess data\n",
    "import pandas as pd\n",
    "\n",
    "# fetch data \n",
    "import requests"
   ]
  },
  {
   "cell_type": "markdown",
   "id": "29da34df-a99e-4fbc-a42c-b4e4b9613dc1",
   "metadata": {},
   "source": [
    "## 1 - Collect orders data"
   ]
  },
  {
   "cell_type": "code",
   "execution_count": null,
   "id": "443aec53-a2d6-47b0-895e-288ee2cfab35",
   "metadata": {},
   "outputs": [],
   "source": [
    "url = \"https://api.digikala.com/v1/profile/orders/?activeTab=sent&status=sent&page=1\"\n",
    "\n",
    "purchase_history = []\n",
    "\n",
    "payload={}\n",
    "\n",
    "\n",
    "headers = {\n",
    "  'authority': 'api.digikala.com',\n",
    "  'accept': 'application/json, text/plain, */*',\n",
    "  'accept-language': 'en-US,en;q=0.9,fa;q=0.8',\n",
    "  'cookie': '',\n",
    "  'origin': 'https://www.digikala.com',\n",
    "  'referer': 'https://www.digikala.com/',\n",
    "  'sec-ch-ua': '\"\"',\n",
    "  'sec-ch-ua-mobile': '',\n",
    "  'sec-ch-ua-platform': '\"\"',\n",
    "  'sec-fetch-dest': '',\n",
    "  'sec-fetch-mode': '',\n",
    "  'sec-fetch-site': '',\n",
    "  'user-agent': '',\n",
    "  'x-web-client': '',\n",
    "  'x-web-optimize-response': ''\n",
    "}\n",
    "\n",
    "response = requests.request(\"GET\", url, headers=headers, data=payload)\n",
    "\n",
    "data = response.json()\n",
    "\n",
    "for result in  data['data']['orders']:\n",
    "    purchase_data = {\n",
    "        'id':result['id'],\n",
    "        'payable_price':result['payable_price'],\n",
    "        'created_at':result['created_at'],\n",
    "        'total_cost':result['price_details']['total_cost'],\n",
    "        'shipping_cost':result['price_details']['shipping_cost'],\n",
    "        'discount':result['price_details']['discount'],   \n",
    "        }\n",
    "    purchase_history.append(purchase_data)   \n",
    "\n",
    "df_orders = pd.DataFrame(purchase_history)"
   ]
  },
  {
   "cell_type": "code",
   "execution_count": null,
   "id": "c607d924-f399-485f-b023-74a0ba44daf9",
   "metadata": {},
   "outputs": [],
   "source": [
    "df_orders.head()"
   ]
  },
  {
   "cell_type": "markdown",
   "id": "a94e6fc7-3226-4410-93f8-2ff5710d0709",
   "metadata": {},
   "source": [
    "## 2 - Extract order_ids\n",
    "## 3 - Collect purchased products data¶"
   ]
  },
  {
   "cell_type": "code",
   "execution_count": 22,
   "id": "aac27be4-fd13-4c53-a149-86547d4dab9c",
   "metadata": {},
   "outputs": [],
   "source": [
    "product_lists = []\n",
    "\n",
    "\n",
    "# loop through order ids and fetch purchased products\n",
    "for order_id in df_orders['id']:\n",
    "    url = f\"https://api.digikala.com/v1/order/{order_id}/?orderId={order_id}\"\n",
    "    payload={}\n",
    "    headers = {\n",
    "      'authority': 'api.digikala.com',\n",
    "      'accept': 'application/json, text/plain, */*',\n",
    "      'accept-language': 'en-US,en;q=0.9,fa;q=0.8',\n",
    "      'cookie': '',\n",
    "      'origin': 'https://www.digikala.com',\n",
    "      'referer': 'https://www.digikala.com/',\n",
    "      'sec-ch-ua': '\"\"',\n",
    "      'sec-ch-ua-mobile': '',\n",
    "      'sec-ch-ua-platform': '\"\"',\n",
    "      'sec-fetch-dest': '',\n",
    "      'sec-fetch-mode': '',\n",
    "      'sec-fetch-site': '',\n",
    "      'user-agent': '',\n",
    "      'x-web-client': '',\n",
    "      'x-web-optimize-response': ''\n",
    "    }\n",
    "\n",
    "    response_deatil = requests.request(\"GET\", url, headers=headers, data=payload)\n",
    "    data = response_deatil.json()\n",
    "    for res in data['data']['order']['order_items']:\n",
    "        if 'default_variant' not in res['product']:\n",
    "            product_data = {\n",
    "              'id':res['product']['id'],\n",
    "                'order_id':order_id,\n",
    "                'title_fa':res['product']['title_fa'],\n",
    "                'title_en':res['product']['title_en'],\n",
    "                'price':res['price']['selling_price'],\n",
    "                'image_url':res['product']['images']['main']['url'][0],\n",
    "                'category':res['product']['data_layer']['category']\n",
    "                   }\n",
    "        else :\n",
    "            product_data = {\n",
    "              'id':res['product']['id'],\n",
    "                'order_id':order_id,\n",
    "                'title_fa':res['product']['title_fa'],\n",
    "                'title_en':res['product']['title_en'],\n",
    "                'price':res['product']['default_variant']['price']['selling_price'],\n",
    "                'image_url':res['product']['images']['main']['url'][0],\n",
    "                'brand':res['product']['data_layer']['category']\n",
    "                }\n",
    "            \n",
    "        product_lists.append(product_data)       \n",
    "df_products = pd.DataFrame(product_lists)"
   ]
  },
  {
   "cell_type": "code",
   "execution_count": 6,
   "id": "edb010e0-b302-4dc1-a6a0-bfd4a921f209",
   "metadata": {},
   "outputs": [
    {
     "name": "stdout",
     "output_type": "stream",
     "text": [
      "<class 'pandas.core.frame.DataFrame'>\n",
      "RangeIndex: 8 entries, 0 to 7\n",
      "Data columns (total 6 columns):\n",
      " #   Column         Non-Null Count  Dtype \n",
      "---  ------         --------------  ----- \n",
      " 0   id             8 non-null      int64 \n",
      " 1   payable_price  8 non-null      int64 \n",
      " 2   created_at     8 non-null      object\n",
      " 3   total_cost     8 non-null      int64 \n",
      " 4   shipping_cost  8 non-null      int64 \n",
      " 5   discount       8 non-null      int64 \n",
      "dtypes: int64(5), object(1)\n",
      "memory usage: 512.0+ bytes\n"
     ]
    }
   ],
   "source": [
    "df_orders.info()"
   ]
  },
  {
   "cell_type": "code",
   "execution_count": 29,
   "id": "69ae471a-a6a8-48d1-979f-a1ce62552665",
   "metadata": {},
   "outputs": [
    {
     "name": "stdout",
     "output_type": "stream",
     "text": [
      "<class 'pandas.core.frame.DataFrame'>\n",
      "RangeIndex: 24 entries, 0 to 23\n",
      "Data columns (total 7 columns):\n",
      " #   Column     Non-Null Count  Dtype \n",
      "---  ------     --------------  ----- \n",
      " 0   id         24 non-null     int64 \n",
      " 1   order_id   24 non-null     int64 \n",
      " 2   title_fa   24 non-null     object\n",
      " 3   title_en   7 non-null      object\n",
      " 4   price      24 non-null     int64 \n",
      " 5   image_url  24 non-null     object\n",
      " 6   brand      24 non-null     object\n",
      "dtypes: int64(3), object(4)\n",
      "memory usage: 1.4+ KB\n"
     ]
    }
   ],
   "source": [
    "df_products.info()"
   ]
  },
  {
   "cell_type": "code",
   "execution_count": 7,
   "id": "163cd8f5-a4f2-4ea1-8e8b-19b6c32311ce",
   "metadata": {},
   "outputs": [
    {
     "data": {
      "text/html": [
       "<div>\n",
       "<style scoped>\n",
       "    .dataframe tbody tr th:only-of-type {\n",
       "        vertical-align: middle;\n",
       "    }\n",
       "\n",
       "    .dataframe tbody tr th {\n",
       "        vertical-align: top;\n",
       "    }\n",
       "\n",
       "    .dataframe thead th {\n",
       "        text-align: right;\n",
       "    }\n",
       "</style>\n",
       "<table border=\"1\" class=\"dataframe\">\n",
       "  <thead>\n",
       "    <tr style=\"text-align: right;\">\n",
       "      <th></th>\n",
       "      <th>id</th>\n",
       "      <th>payable_price</th>\n",
       "      <th>total_cost</th>\n",
       "      <th>shipping_cost</th>\n",
       "      <th>discount</th>\n",
       "    </tr>\n",
       "  </thead>\n",
       "  <tbody>\n",
       "    <tr>\n",
       "      <th>count</th>\n",
       "      <td>8.000000e+00</td>\n",
       "      <td>8.000000e+00</td>\n",
       "      <td>8.000000e+00</td>\n",
       "      <td>8.000000</td>\n",
       "      <td>8.000000e+00</td>\n",
       "    </tr>\n",
       "    <tr>\n",
       "      <th>mean</th>\n",
       "      <td>1.421479e+08</td>\n",
       "      <td>1.169838e+07</td>\n",
       "      <td>1.221250e+07</td>\n",
       "      <td>283625.000000</td>\n",
       "      <td>7.977500e+05</td>\n",
       "    </tr>\n",
       "    <tr>\n",
       "      <th>std</th>\n",
       "      <td>1.534149e+07</td>\n",
       "      <td>2.494428e+07</td>\n",
       "      <td>2.466625e+07</td>\n",
       "      <td>250035.961699</td>\n",
       "      <td>9.359173e+05</td>\n",
       "    </tr>\n",
       "    <tr>\n",
       "      <th>min</th>\n",
       "      <td>1.201727e+08</td>\n",
       "      <td>9.280000e+05</td>\n",
       "      <td>9.900000e+05</td>\n",
       "      <td>0.000000</td>\n",
       "      <td>0.000000e+00</td>\n",
       "    </tr>\n",
       "    <tr>\n",
       "      <th>25%</th>\n",
       "      <td>1.328764e+08</td>\n",
       "      <td>2.025375e+06</td>\n",
       "      <td>2.372500e+06</td>\n",
       "      <td>212250.000000</td>\n",
       "      <td>1.481250e+05</td>\n",
       "    </tr>\n",
       "    <tr>\n",
       "      <th>50%</th>\n",
       "      <td>1.430261e+08</td>\n",
       "      <td>2.724750e+06</td>\n",
       "      <td>3.992500e+06</td>\n",
       "      <td>235000.000000</td>\n",
       "      <td>4.710000e+05</td>\n",
       "    </tr>\n",
       "    <tr>\n",
       "      <th>75%</th>\n",
       "      <td>1.465450e+08</td>\n",
       "      <td>4.435000e+06</td>\n",
       "      <td>5.297500e+06</td>\n",
       "      <td>258750.000000</td>\n",
       "      <td>1.081375e+06</td>\n",
       "    </tr>\n",
       "    <tr>\n",
       "      <th>max</th>\n",
       "      <td>1.714989e+08</td>\n",
       "      <td>7.325400e+07</td>\n",
       "      <td>7.306500e+07</td>\n",
       "      <td>865000.000000</td>\n",
       "      <td>2.637000e+06</td>\n",
       "    </tr>\n",
       "  </tbody>\n",
       "</table>\n",
       "</div>"
      ],
      "text/plain": [
       "                 id  payable_price    total_cost  shipping_cost      discount\n",
       "count  8.000000e+00   8.000000e+00  8.000000e+00       8.000000  8.000000e+00\n",
       "mean   1.421479e+08   1.169838e+07  1.221250e+07  283625.000000  7.977500e+05\n",
       "std    1.534149e+07   2.494428e+07  2.466625e+07  250035.961699  9.359173e+05\n",
       "min    1.201727e+08   9.280000e+05  9.900000e+05       0.000000  0.000000e+00\n",
       "25%    1.328764e+08   2.025375e+06  2.372500e+06  212250.000000  1.481250e+05\n",
       "50%    1.430261e+08   2.724750e+06  3.992500e+06  235000.000000  4.710000e+05\n",
       "75%    1.465450e+08   4.435000e+06  5.297500e+06  258750.000000  1.081375e+06\n",
       "max    1.714989e+08   7.325400e+07  7.306500e+07  865000.000000  2.637000e+06"
      ]
     },
     "execution_count": 7,
     "metadata": {},
     "output_type": "execute_result"
    }
   ],
   "source": [
    "df_orders.describe()"
   ]
  },
  {
   "cell_type": "markdown",
   "id": "d10b1fc9-501f-4d8e-a28a-3ab694ec67e7",
   "metadata": {},
   "source": [
    "## 4 - Convert order date from Jalali to Gregorian"
   ]
  },
  {
   "cell_type": "code",
   "execution_count": 13,
   "id": "d983d1b1-c356-4916-8ba7-66039441ae12",
   "metadata": {},
   "outputs": [],
   "source": [
    "def convert_date(month,day,yaer):\n",
    "    \"\"\"\n",
    "    This funciton convert persain date like \"6 1401 خرداد\" to gregorian \"2022-5-7\"\n",
    "    Params:\n",
    "    \n",
    "    month: Jalali month name \n",
    "    day: Jalali day date\n",
    "    yaer: Jalali year date like \"1401\"\n",
    "    \n",
    "    Returns:\n",
    "    Converted jalali date to gregorian\n",
    "    \n",
    "    \"\"\"\n",
    "    date_dict = {1  : 'فروردین',\n",
    "                 2  : 'اردیبهشت',\n",
    "                 3  : 'خرداد',\n",
    "                 4  : 'تیر',\n",
    "                 5  : 'مرداد',\n",
    "                 6  : 'شهریور',\n",
    "                 7  : 'مهر',\n",
    "                 8  : 'آبان',\n",
    "                 9  : 'آذر',\n",
    "                 10 : 'دی',\n",
    "                 11 : 'بهمن',\n",
    "                 12 : 'اسفند' }\n",
    "    for key, value in date_dict.items():\n",
    "        month = month.replace(value,str(key))\n",
    "    yaer =  unidecode(yaer)\n",
    "    day =  unidecode(day)\n",
    "    converted_date =JalaliDate(int(yaer), int(month), int(day)).to_gregorian()\n",
    "    return converted_date"
   ]
  },
  {
   "cell_type": "code",
   "execution_count": 15,
   "id": "c1c7f14e-6e7a-4d45-933a-67ed68d8a606",
   "metadata": {},
   "outputs": [],
   "source": [
    "df_orders['created_at'] = df_orders['created_at'].apply(lambda x : convert_date(x.split(' ')[1],x.split(' ')[0],x.split(' ')[2]))"
   ]
  },
  {
   "cell_type": "markdown",
   "id": "5eaa1e82-bcb6-485e-961e-1816833ff9e6",
   "metadata": {},
   "source": [
    "## 5 - Clean category text"
   ]
  },
  {
   "cell_type": "code",
   "execution_count": null,
   "id": "386c28f2-ff06-4687-8f0e-dd2738ccc0b4",
   "metadata": {},
   "outputs": [],
   "source": [
    "df_products['brand'] = df_products['brand'].apply(lambda x :x.split(',')[1][:-1])"
   ]
  },
  {
   "cell_type": "markdown",
   "id": "a50783fa-0d55-4283-a815-015e657500b9",
   "metadata": {},
   "source": [
    "## 6 - save datas into csv"
   ]
  },
  {
   "cell_type": "code",
   "execution_count": 17,
   "id": "e9b457f1-b7a0-4a31-ac7b-0b84a3e5786c",
   "metadata": {},
   "outputs": [],
   "source": [
    "# save purchased products into csv file\n",
    "df_orders.to_csv('orders_history.csv',index=False)"
   ]
  },
  {
   "cell_type": "code",
   "execution_count": 34,
   "id": "fc0a2292-9df0-4b80-85f7-8584ad308e5c",
   "metadata": {},
   "outputs": [],
   "source": [
    "# save purchased products into csv file\n",
    "df_products.to_csv('purchased_products.csv',index=False)"
   ]
  }
 ],
 "metadata": {
  "kernelspec": {
   "display_name": "tf25",
   "language": "python",
   "name": "tf25"
  },
  "language_info": {
   "codemirror_mode": {
    "name": "ipython",
    "version": 3
   },
   "file_extension": ".py",
   "mimetype": "text/x-python",
   "name": "python",
   "nbconvert_exporter": "python",
   "pygments_lexer": "ipython3",
   "version": "3.8.10"
  }
 },
 "nbformat": 4,
 "nbformat_minor": 5
}
